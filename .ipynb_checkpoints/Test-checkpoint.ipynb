{
 "cells": [
  {
   "cell_type": "markdown",
   "id": "14b2a0e8-ee8b-4fba-98c2-f5dcb717c654",
   "metadata": {},
   "source": [
    "# Test"
   ]
  },
  {
   "cell_type": "code",
   "execution_count": 2,
   "id": "2370ee7c-55ee-4700-a9e0-28b74bad85c9",
   "metadata": {},
   "outputs": [],
   "source": [
    "test <- \"hello\""
   ]
  },
  {
   "cell_type": "code",
   "execution_count": 3,
   "id": "aea550e9-7d82-472b-9a08-3305a2fcc7cc",
   "metadata": {},
   "outputs": [
    {
     "name": "stdout",
     "output_type": "stream",
     "text": [
      "[1] \"hello\"\n"
     ]
    }
   ],
   "source": [
    "print(test)"
   ]
  },
  {
   "cell_type": "code",
   "execution_count": 4,
   "id": "ebc4186c-a0b6-4f6b-a232-9b4318643828",
   "metadata": {},
   "outputs": [
    {
     "data": {
      "text/html": [
       "'C:/Users/ant87282/Documents/JB-Tabelle'"
      ],
      "text/latex": [
       "'C:/Users/ant87282/Documents/JB-Tabelle'"
      ],
      "text/markdown": [
       "'C:/Users/ant87282/Documents/JB-Tabelle'"
      ],
      "text/plain": [
       "[1] \"C:/Users/ant87282/Documents/JB-Tabelle\""
      ]
     },
     "metadata": {},
     "output_type": "display_data"
    }
   ],
   "source": [
    "getwd()"
   ]
  },
  {
   "cell_type": "code",
   "execution_count": null,
   "id": "dd7e6c76-b0e3-4349-85aa-76faad744386",
   "metadata": {},
   "outputs": [],
   "source": []
  }
 ],
 "metadata": {
  "kernelspec": {
   "display_name": "R",
   "language": "R",
   "name": "ir"
  },
  "language_info": {
   "codemirror_mode": "r",
   "file_extension": ".r",
   "mimetype": "text/x-r-source",
   "name": "R",
   "pygments_lexer": "r",
   "version": "3.6.1"
  }
 },
 "nbformat": 4,
 "nbformat_minor": 5
}
