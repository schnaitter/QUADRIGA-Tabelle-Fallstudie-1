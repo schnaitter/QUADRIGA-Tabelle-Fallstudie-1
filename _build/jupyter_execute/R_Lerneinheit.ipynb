{
 "cells": [
  {
   "cell_type": "raw",
   "id": "889e6f3c",
   "metadata": {},
   "source": [
    "---\n",
    "title: \"Lerneinheit R - Arbeiten mit CSV-Dateien\"\n",
    "output:\n",
    "  html_document:\n",
    "    toc: true\n",
    "    toc_float: true\n",
    "    numbered: true\n",
    "    theme: journal\n",
    "\n",
    "---"
   ]
  },
  {
   "cell_type": "code",
   "execution_count": 1,
   "id": "39a6ee43",
   "metadata": {
    "language": "css",
    "lines_to_next_cell": 2,
    "tags": [
     "remove_input"
    ]
   },
   "outputs": [
    {
     "ename": "SyntaxError",
     "evalue": "invalid decimal literal (1850876554.py, line 2)",
     "output_type": "error",
     "traceback": [
      "\u001b[1;36m  Cell \u001b[1;32mIn[1], line 2\u001b[1;36m\u001b[0m\n\u001b[1;33m    max-height: 400px;\u001b[0m\n\u001b[1;37m                  ^\u001b[0m\n\u001b[1;31mSyntaxError\u001b[0m\u001b[1;31m:\u001b[0m invalid decimal literal\n"
     ]
    }
   ],
   "source": [
    ".scroll_limit {\n",
    "  max-height: 400px;\n",
    "  overflow-y: auto;\n",
    "  background-color: inherit;\n",
    "}"
   ]
  },
  {
   "cell_type": "markdown",
   "id": "e7578969",
   "metadata": {},
   "source": [
    "#Lerneinheit R - Arbeiten mit CSV-Dateien\n",
    "\n",
    "## 1 Vorwort \n",
    "\n",
    "Die folgende Lerneinheit soll Ihnen den Ersteinstieg in die Computersprache **R** erleichtern.\\\n",
    "Als Fallbeispiel wird eine CSV-Datei mit Rohdaten zum *Personalstand an Hochschulen* eingelesen und ausgewertet.\\\n",
    "Um die CSV-Datei herunterzuladen, klicken Sie bitte [hier](https://www-genesis.destatis.de/genesis//online?operation=table&code=21341-0001&bypass=true&levelindex=0&levelid=1706718181851) (Quelle: Statistisches Bundesamt 2022).\\\n",
    "\n",
    "### Installieren von R und R-Studio \n",
    "\n",
    "Um der Übungseinheit effektiv folgen zu können, installieren Sie bitte vorab **R**. Zudem benötigen Sie eine geeignete Entwicklungsumgebung. Hierfür bietet sich **R-Studio** an.\\\n",
    "Zur Installation der Computersprache **R** und **R-Studio** geht es [hier](https://posit.co/download/rstudio-desktop/).\\\n",
    "\n",
    "***\n",
    "## 2 Erste Schritte in R-Studio \n",
    "\n",
    "**Neues R Skript anlegen**\\\n",
    "1. Öffnen Sie R-Studio.\\\n",
    "2. Ein neues Skript, in dem Sie Befehle eingeben können, öffnen Sie unter *Files*:\n",
    "![Anleitung zum Öffnen eines neuen R-Skriptes](C:/Users/ant87282/Pictures/Camera Roll/Screenshot_R_Studio_open_new_skript.png)\n",
    "\\\n",
    "\\\n",
    "**Interface von R-Studio:**\n",
    "\\\n",
    "![Interface R-Studio](C:/Users/ant87282/Pictures/Camera%20Roll/Screenshot_R_Studio_Interface_erklärung.png)\n",
    "\n",
    "**R Skript:**\\\n",
    "Im R Skript werden die Befehle eingegeben, welche **R** ausführen soll. Um einen eingegebenen Befehl auszuführen, drücken Sie entweder `Strg + Enter` oder Sie drücken mit der Maus auf den *Run-Button* in der oberen rechten Ecke des Fensters. Ein Befehl ist z.B. `1+1`. Das Skript und dessen Befehle können abgespeichert werden und zu einem späteren Zeitpunkt erneut geöffnet werden.\\\n",
    "\n",
    "**Console:**\\\n",
    "In der Console werden die Ergebnisse der Befehle angezeigt. Wenn Sie im Skript `1+1` eingegeben und ausgeführt haben, erscheint in der Console das Ergebnis `2`. Sie können auch Befehle direkt in der Console ausführen, diese werden dann jedoch nicht gespeichert.\\\n",
    "\n",
    "**Environment:**\\\n",
    "In der Environment werden geladene Dateien und Datensätze angezeigt. Zudem sind hier selbst erstellte Listen etc. vorzufinden.\\\n",
    "\n",
    "**Files, Plots, Packages, etc.**\\\n",
    "In diesem Fenster werden verschiedene Funktionen angeboten. Über die Fensterkachel **Files** können Sie Dateien anzeigen lassen und Importieren *(Dazu mehr im Abschnitt **Einlesen von CSV Dateien**)*.\\\n",
    "Die Fensterkachel **PLOTS** zeigt Ihnen erstellte Grafiken an.\\\n",
    "Die Fensterkachel **Packages** zeigt Ihnen alle installierten R-Packages auf Ihrem Rechner an. Ein Package ist eine Ansammlung von **R**-Befehlen. Manche Befehle können Sie nur ausführen, wenn Sie das dazugehörige Package durch den Befehl `install.packages(\"*Packagename*\")` installiert und durch den Befehlt `library(*Packagename*)`geladen haben *(Dazu mehr im folgenden Abschnitt **Einleitung**)*.\\"
   ]
  },
  {
   "cell_type": "markdown",
   "id": "b9f54d3c",
   "metadata": {},
   "source": [
    "***\n",
    "## 3 Einleitung \n",
    "\n",
    "> Für Computersprachen gilt allgemein: Es gibt nie nur einen Weg zum Ziel. Unterschiedliche Befehle können Sie zum gleichen Ziel bringen. Dieses gilt auch für die folgenden angeführten Befehle. \n",
    "\n",
    "Damit Sie die in diesem Skript angeführten Befehle verwenden können, müssen Sie das folgende Package installieren und laden:"
   ]
  },
  {
   "cell_type": "code",
   "execution_count": null,
   "id": "6958aaf9",
   "metadata": {
    "eval": false
   },
   "outputs": [],
   "source": [
    "install.packages(\"tidyverse\")"
   ]
  },
  {
   "cell_type": "code",
   "execution_count": null,
   "id": "131635c9",
   "metadata": {
    "lines_to_next_cell": 2,
    "message": false
   },
   "outputs": [],
   "source": [
    "library(tidyverse)"
   ]
  },
  {
   "cell_type": "markdown",
   "id": "dc5225a8",
   "metadata": {
    "lines_to_next_cell": 0
   },
   "source": [
    "### Einlesen von CSV Dateien \n",
    "\n",
    "Hierfür gibt es zwei Befehle: `read.csv()` oder `read.csv2()`\\\n",
    "\n",
    "-   `read.csv()` wird verwendet, wenn die CSV Dateiwerte durch Kommata separiert werden.\\\n",
    "    \\\n",
    "-   `read.csv2()` wird verwendet, wenn die CSV Dateiwerte durch Semicola separiert werden.\\\n",
    "\\\n",
    "\n",
    "**Fallbeispiel:**"
   ]
  },
  {
   "cell_type": "code",
   "execution_count": null,
   "id": "3df04693",
   "metadata": {
    "lines_to_next_cell": 0
   },
   "outputs": [],
   "source": [
    "#Daten einlesen\n",
    "data_csv <- read.csv2(\"21341-0001_$F.csv\",header = FALSE)"
   ]
  },
  {
   "cell_type": "markdown",
   "id": "5d43e896",
   "metadata": {},
   "source": [
    "\\\n",
    "**Erklärung des Codes:**\\\n",
    "\n",
    "-   `#Daten einlesen`:\\\n",
    "    Durch das setzen eines `#` wird der folgende Inhalt in der Zeile nicht als Code interpretiert und somit auch nicht ausgeführt. Wenn Sie Textbausteine, Kommentare, Überschriften etc. in Ihrem **R-Skript** integrieren möchten, was für eine bessere Nachvollziehbarkeit Ihres Skriptes zu empfehlen ist, benutzen Sie immer das `#` -Symbol, um dies kenntlich zu machen. Ansonsten wird **R** einen Error ausgeben.\\\n",
    "\n",
    "-   `read.csv2()`:\\\n",
    "    Die verwendete Datei ist durch Semicola separiert. Deswegen wird hier `read.csv2()` verwendet.\\\n",
    "    -   *Woraus ist dies ersichtlich? Durch Öffnen der Datei in der Console Ihres Rechners können Sie die verwendeten Trennzeichen erkennen.*\\\n",
    "        \\\n",
    "-   `\"21341-0001_$F.csv\"`:\\\n",
    "    Hier steht der Name der CSV-Datei, die geladen werden soll.\\\n",
    "    -   Bei Verwendung von R-Studio: Sie sollten unter *Files* den Ordner aufrufen, in dem Ihre Dateien gespeichert sind. Nach klicken auf die gewünschte Datei, können Sie die Option **Import Dataset...** nutzen.\\\n",
    "        \\\n",
    "-   `header = FALSE`:\\\n",
    "    Die CSV Datei hat keine Überschriften, daher muss hier der Zusatz hinzugefügt werden.\\\n",
    "    \\\n",
    "-   `data_csv <-`:\\\n",
    "    Damit Sie einen Befehl nicht immer wieder ausführen müssen, können Sie dem Befehl mittels eines Pfeils `<-` einem Namen zuordnen.\\\n",
    "    -   Hier: \"data_csv\". Nun können Sie in dem folgenden Skript nur noch den gesetzten Namen verwenden.\\\n",
    "        \\\n",
    "\n",
    "***Alternative:*** *Falls die Datei nicht unter \"Files\" auffindbar ist, kann auch der Befehl `choose.files()` genutzt werden:*\\"
   ]
  },
  {
   "cell_type": "code",
   "execution_count": null,
   "id": "f6e05daf",
   "metadata": {
    "eval": false
   },
   "outputs": [],
   "source": [
    "data_csv <- read.csv2(choose.files(),header = FALSE)"
   ]
  },
  {
   "cell_type": "markdown",
   "id": "4aa0af63",
   "metadata": {
    "lines_to_next_cell": 0
   },
   "source": [
    "\\\n",
    "\n",
    "> **Tipp:** Wenn Sie die Bedeutung und Syntax eines Befehls besser verstehen wollen, empfielt es sich, diesen Befehl im Handbuch nachzuschlagen. Hierzu setzen Sie ein `?` vor den Befehl Ihres Interesses.\\\n",
    "\n",
    "*Beispiel:*\\"
   ]
  },
  {
   "cell_type": "code",
   "execution_count": null,
   "id": "4c155fbd",
   "metadata": {
    "message": false
   },
   "outputs": [],
   "source": [
    "?read.csv2"
   ]
  },
  {
   "cell_type": "markdown",
   "id": "b25ac4fa",
   "metadata": {},
   "source": [
    "------------------------------------------------------------------------\n",
    "\n",
    "## 4 Daten sichten \n",
    "\n",
    "Es ist immer ratsam, einen ersten Blick auf die Daten zu werfen, um deren Struktur zu verstehen.\\"
   ]
  },
  {
   "cell_type": "code",
   "execution_count": null,
   "id": "0a3be90e",
   "metadata": {
    "class.output": "scroll_limit"
   },
   "outputs": [],
   "source": [
    "show(data_csv)"
   ]
  },
  {
   "cell_type": "markdown",
   "id": "44bc6e4f",
   "metadata": {},
   "source": [
    "*Alternative:*"
   ]
  },
  {
   "cell_type": "code",
   "execution_count": null,
   "id": "369350a9",
   "metadata": {
    "eval": false
   },
   "outputs": [],
   "source": [
    "view(data_csv)\n",
    "#oder\n",
    "print(data_csv)"
   ]
  },
  {
   "cell_type": "markdown",
   "id": "b51047d9",
   "metadata": {},
   "source": [
    "### Dateiinhalt interpretieren \n",
    "\n",
    "Die Datei hat drei Spalten (V1, V2, V3):\\\n",
    "\n",
    "-   **V1:** In den Zeilen 1-6 und 87-88 stehen die Metadaten der Datei. Hier finden Sie Infos zum Herausgeber, Inhalt der Daten, etc..\\\n",
    "    In den Zeilen 8-85 befinden sich Bezeichnung zum Angestelltenverhältnis des Hochschulpersonals (Dozent, Gastprofessoren, etc.).\\\n",
    "\n",
    "-   **V2:** Diese Spalte unterteilt die Beschäftigten nach Geschlecht (männlich, weiblich & Insgesamt).\\\n",
    "\n",
    "-   **V3:** In den Zeilen 8-85 sind die jeweiligen absoluten Personalzahlen enthalten. In der Zeile 7 ist die Spaltenüberschrift \"2020\" gegeben. Diese bezieht sich auf das Erhebungsjahr der Daten.\\\n",
    "    \\\n",
    "\n",
    "### Anmerkungen zu der Ausgangsdatei \n",
    "\n",
    "Es fallen hier direkt mehrere Punkte auf, welche die CSV-Datei schlechter maschinenlesbar machen:\\\n",
    "\n",
    "1.  Der Titel des Datensatzes ist nicht prägnant und verständlich.\n",
    "\n",
    "2.  Metadaten (Übergeordnete Informationen über die vorliegenden Daten) sollten nicht in der Tabelle selbst auftauchen sondern separiert in dem dafür vorgesehenen Metadatenbereich abgespeichert werden. Die CSV-Datei sollte neben der Kopfzeile und der Inhaltsdaten keine weiteren Informationen enthalten.\\\n",
    "\n",
    "3.  Spalten sollten immer Überschriften haben. Dies fehlt hier für **V1** und **V2**.\\\n",
    "\n",
    "4.  Auf Umlaute und Sonderzeichen ist zu verzichten. Dies führt zu einer fehlerhaften Anzeige. In **V1 Zeile 87** wird das Sonderzeichen \"Copyright\" nicht logisch erkannt und als \"\\xa9.\" angezeigt. In den Spalten **V1** und **V2** werden Wörter mit Umlauten wie *\"männlich\", \"\"für\", \"Lehrkräfte\", etc.* alle fehlerhaft angezeigt. Um größtmögliche Kompatibilität zu anderen Programmen zu gewährleisten, sollten Dateien immer der UTF-8-Zeichenkodierung folgen.\n",
    "Andernfalls können Probleme bei der maschinellen Verarbeitung entstehen, wie Sie in der Tabelle erkennen können.\\\n",
    "\n",
    "Wenn Sie mehr zum Thema *\"hochwertiger Datenaufbau\"* wissen möchten, werfen Sie gerne einen Blick in den [NQDM-Leitfaden](https://nqdm-projekt.de/de/downloads/leitfaden).\\"
   ]
  },
  {
   "cell_type": "markdown",
   "id": "ca86fa3e",
   "metadata": {
    "lines_to_next_cell": 0
   },
   "source": [
    "------------------------------------------------------------------------\n",
    "\n",
    "## 5 Daten aufbereiten\\\n",
    "Im folgenden Abschnitt werden die zuletzt erwähnten Qualitätsmängel der Datendarstellung behoben und die Daten zur Auswertung vorbereitet.\n",
    "\n",
    "**Problem der Zeichenkodierung**\\\n",
    "Im Default interpretiert **R** Dokumente als UTF-8 (Unicode) kodiert. Dies ist die Ausgangseinstellung und **R-Skripte** werden mit dieser Zeichenkodierung ebenfalls abgespeichert, solange Sie dies nicht manuell ändern. Beim Laden von nicht UTF-8 kodierten Dateien kann es jedoch zu Anzeigeproblemen kommen, wie in der Tabelle feststellbar. Siehe beispielsweise Zelle V2 Zeile 8:\\"
   ]
  },
  {
   "cell_type": "code",
   "execution_count": null,
   "id": "4a2776dd",
   "metadata": {
    "tags": [
     "remove_input"
    ]
   },
   "outputs": [],
   "source": [
    "data_csv[8,2]"
   ]
  },
  {
   "cell_type": "markdown",
   "id": "47a628a2",
   "metadata": {
    "lines_to_next_cell": 0
   },
   "source": [
    "Solch eine Anzeige spricht dafür, dass ein ISO 8859-1 (\"Latin-1\") kodiertes Dokument inklusive Umlauten als UTF-8 interpretiert wird. Damit Ihre Datei kompatibel und gut maschinell lesbar für andere Programme bleibt, sollten Sie stets eine UFT-8 Kodierung beibehalten. Eine bessere Anzeige können Sie trotzdem mit folgenden Schritten erreichen.\\\n",
    "\\\n",
    "\\\n",
    "**Lösungsansätze**\\\n",
    "Sie können die Datei als ISO 8859-1 (\"Latin-1\") kodiert laden. Hierzu müssen Sie zum bekannten Einlesebefehl nur den Zusatz `encoding = \"latin1\"` hinzufügen, damit **R** weiß, welche Zeichenkodierung im Dokument verwendet wurde:"
   ]
  },
  {
   "cell_type": "code",
   "execution_count": null,
   "id": "d1b0fbaf",
   "metadata": {},
   "outputs": [],
   "source": [
    "data_csv_clean <- read.csv2(\"21341-0001_$F.csv\", header = FALSE, encoding = \"latin1\")"
   ]
  },
  {
   "cell_type": "markdown",
   "id": "8c881a3c",
   "metadata": {
    "lines_to_next_cell": 0
   },
   "source": [
    "Wenn Sie schnell überprüfen möchten, ob die Umlaute nun korrekt angezeigt werden, können Sie den Befehl `head()` benutzen. Hierdurch werden nur die ersten Zeilen Ihrer Tabelle angezeigt."
   ]
  },
  {
   "cell_type": "code",
   "execution_count": null,
   "id": "fbbe148b",
   "metadata": {
    "lines_to_next_cell": 0
   },
   "outputs": [],
   "source": [
    "head(data_csv_clean)"
   ]
  },
  {
   "cell_type": "markdown",
   "id": "e3e094ed",
   "metadata": {
    "lines_to_next_cell": 0
   },
   "source": [
    "An dem Wort \"Beschäftigungsverältnis\" in Zeile 3 sehen Sie, dass die CSV-Datei nun korrekt gelesen wird. Wie bereits erwähnt sollte Sie auf Umlaute jedoch in Gänze verzichten.\\\n",
    "\\"
   ]
  },
  {
   "cell_type": "code",
   "execution_count": null,
   "id": "84ce759d",
   "metadata": {
    "eval": false,
    "lines_to_next_cell": 2,
    "tags": [
     "remove_input"
    ]
   },
   "outputs": [],
   "source": [
    "install.packages(\"pandoc\")"
   ]
  },
  {
   "cell_type": "code",
   "execution_count": null,
   "id": "aca3fc51",
   "metadata": {
    "lines_to_next_cell": 0,
    "tags": [
     "remove_input"
    ]
   },
   "outputs": [],
   "source": [
    "library(pandoc)"
   ]
  },
  {
   "cell_type": "markdown",
   "id": "e0c70c08",
   "metadata": {},
   "source": [
    "*Alternative:*\\\n",
    "Um Probleme mit der Zeichenkodierung zu vermeiden, speichern Sie am besten schon im Vorhinein Ihre Datei mit UTF-8 Kodierung ab. Dies können Sie meist direkt unter den `Speichern unter...` Dateiformaten auswählen:\n",
    "\n",
    "![Abspeichern mit UTF-8 Kodierung](C:/Users/ant87282/Pictures/Camera Roll/Screenshot_abspeichern_UTF8_ 2024-04-15 172941.png){#id .class width=600 height=px}\\\n",
    "\\\n",
    "\n",
    "### Umlaute entfernen\\\n",
    "\n",
    "Mittels des Befehls `str_replace_all` können Sie einzelne Buchstaben in Ihrer Tabelle ersetzen. Dies ist jedoch nur separat für einzelne Spalten möglich.  "
   ]
  },
  {
   "cell_type": "code",
   "execution_count": null,
   "id": "db8166bd",
   "metadata": {
    "lines_to_next_cell": 0
   },
   "outputs": [],
   "source": [
    "data_csv_clean$V1 <- str_replace_all(data_csv_clean$V1, c(\"ä\" = \"ae\", \"ö\" = \"oe\", \"ü\" =\"ue\", \"ß\" =\"ss\"))\n",
    "data_csv_clean$V2 <- str_replace_all(data_csv_clean$V2, c(\"ä\" = \"ae\", \"ö\" = \"oe\", \"ü\" =\"ue\", \"ß\" =\"ss\"))"
   ]
  },
  {
   "cell_type": "markdown",
   "id": "a1d78fd8",
   "metadata": {},
   "source": [
    "**Erklärung des Codes:**\\\n",
    "\n",
    "- `data_csv_utf8$V1`:\\\n",
    "Durch das Anhängen eines `$`- Zeichens an den Namen der Tabelle signalisieren Sie **R**, dass Sie sich nur auf einen bestimmte Variable - hier die Spalte **V1** - beziehen möchten.\\\n",
    "\n",
    "- `str_replace_all`:\\\n",
    "Suchen und ersetzen von einzelnen Zeichen(-ketten) in ihrer Tabelle.\\\n",
    "\n",
    "- `c(\"ä\" = \"ae\", \"ö\" = \"oe\",...)`:\\\n",
    "Der Befehl `c` erstellt einen Vektor. Ein Vektor kombiniert von Ihnen festgelegte Zahlen- oder Zeichenketten (letzteres wird auch **\"String\"** genannt). Ein String ist z.B. c(\"Apfel\", \"Birne\", \"Kiwi\").\\\n",
    "Im hier verwendeten Zusammenhang mit `str_replace_all()` wird **R** befohlen, alle \"ä\" durch \"ae\" zu ersetzen und alle \"ö\" durch \"oe\" usw..\\\n",
    "\\\n",
    "\\\n",
    "\n",
    "**Ergebnis ansehen**:\\\n",
    "Über die `show()` -Funktion könnten Sie jetzt die Tabelle erneut sichten und überprüfen, ob die Zeichenumkodierung funktioniert hat.\n",
    "Wenn Ihre Tabelle jedoch sehr lang ist (so wie in diesem Fall) und Sie nur einen Teil Ihrer Tabelle betrachten möchten, können Sie sich auch nur bestimmte Bereiche anzeigen lassen. Hierfür setzen Sie hinter den Dateinamen eckige Klammern und bestimmen den Wertebereich:`[*Zeilenbereich*,*Spaltenbereich*]`.\\\n",
    "\n",
    "*Hinweis: Wenn Sie einen Wertebereich angeben wollen, platzieren Sie zwischen den ersten und letzten Wert einen Doppelpunkt`:` und * **R** *inkludiert alle dazwischenliegenden Werte (\"von... bis...\"). Ein Komma separiert Bereiche.*\\\n",
    "\\\n",
    "**Allgemeines Beispiel:** "
   ]
  },
  {
   "cell_type": "code",
   "execution_count": null,
   "id": "05dcfeb0",
   "metadata": {
    "lines_to_next_cell": 0
   },
   "outputs": [],
   "source": [
    "1:5"
   ]
  },
  {
   "cell_type": "markdown",
   "id": "3a60b7fd",
   "metadata": {
    "lines_to_next_cell": 0
   },
   "source": [
    "Ein Vektor mit Wertebereichen:"
   ]
  },
  {
   "cell_type": "code",
   "execution_count": null,
   "id": "01303e06",
   "metadata": {
    "lines_to_next_cell": 0
   },
   "outputs": [],
   "source": [
    "c(1:5, 11:15)"
   ]
  },
  {
   "cell_type": "markdown",
   "id": "31c241d9",
   "metadata": {},
   "source": [
    "\\\n",
    "\n",
    "**Angewendet auf die vorliegende CSV-Tabelle:**"
   ]
  },
  {
   "cell_type": "code",
   "execution_count": null,
   "id": "7d35c5fc",
   "metadata": {},
   "outputs": [],
   "source": [
    "show(data_csv_clean[8:20,1:3])"
   ]
  },
  {
   "cell_type": "markdown",
   "id": "62524cc3",
   "metadata": {},
   "source": [
    "Wie Sie erkennen können, wurden die Umlaute erfolgreich umgeschrieben."
   ]
  },
  {
   "cell_type": "markdown",
   "id": "fa6d74bc",
   "metadata": {
    "lines_to_next_cell": 0
   },
   "source": [
    "### Tabelle unterteilen\\\n",
    "Damit die Tabelle eine bessere Struktur erlangt, empfiehlt sich eine Separierung in Metadaten und  Tabellendaten.\\"
   ]
  },
  {
   "cell_type": "code",
   "execution_count": null,
   "id": "cf460f20",
   "metadata": {
    "lines_to_next_cell": 2
   },
   "outputs": [],
   "source": [
    "Metadaten <- data_csv_clean[c(1:6, 87:88), 1]\n",
    "Tabellendaten <- data_csv_clean[8:85, 1:3]"
   ]
  },
  {
   "cell_type": "markdown",
   "id": "a2c2b24b",
   "metadata": {
    "lines_to_next_cell": 0
   },
   "source": [
    "### Spaltenüberschriften setzen\n",
    "Der Befehl `colnames()`ermöglicht es Ihnen Spaltenüberschriften zu setzen.\\\n",
    "\n",
    "Sie können dies entweder für jede Spalte mit einem einzelnen Befehl durchführen:"
   ]
  },
  {
   "cell_type": "code",
   "execution_count": null,
   "id": "03768cdb",
   "metadata": {
    "eval": false
   },
   "outputs": [],
   "source": [
    "colnames(Tabellendaten)[1] <- \"Angestelltenverhaeltnis\""
   ]
  },
  {
   "cell_type": "markdown",
   "id": "038fb343",
   "metadata": {
    "lines_to_next_cell": 0
   },
   "source": [
    "Oder alle Spaltenüberschriften mittels eines Vektors gleichzeitig neu setzen:"
   ]
  },
  {
   "cell_type": "code",
   "execution_count": null,
   "id": "4af3aed5",
   "metadata": {},
   "outputs": [],
   "source": [
    "colnames(Tabellendaten) <- c(\"Angestelltenverhaeltnis\", \"Geschlecht\", \"Angestelltenzahl_2020\")\n",
    "\n",
    "#Ergebnis ansehen\n",
    "head(Tabellendaten) "
   ]
  },
  {
   "cell_type": "markdown",
   "id": "f34a6724",
   "metadata": {
    "lines_to_next_cell": 0
   },
   "source": [
    "Damit die Nummerierung der Tabellenzeilen nicht bei der Zahl 8 startet, empfiehlt sich die Nummerierung der Zeilen neu zu setzen. Herzu kann der Befehl `row.names` eingesetzt werden:"
   ]
  },
  {
   "cell_type": "code",
   "execution_count": null,
   "id": "1c863d58",
   "metadata": {
    "lines_to_next_cell": 0
   },
   "outputs": [],
   "source": [
    "row.names(Tabellendaten) <- 1:78"
   ]
  },
  {
   "cell_type": "markdown",
   "id": "eff2c7a2",
   "metadata": {},
   "source": [
    "\\\n",
    "*Alternative:*\\\n",
    "Direkte manuelle Bearbeitung in der Tabelle:"
   ]
  },
  {
   "cell_type": "code",
   "execution_count": null,
   "id": "4085905c",
   "metadata": {
    "eval": false,
    "lines_to_next_cell": 0
   },
   "outputs": [],
   "source": [
    "edit(Tabellendaten)"
   ]
  },
  {
   "cell_type": "markdown",
   "id": "b3de0fa8",
   "metadata": {},
   "source": [
    "**Achtung:** Es empfiehlt sich auf Befehle wie diese zu verzichten, da die Änderungen nicht im **R Skript** oder der **Console** angezeigt und somit **nicht nachvollzogen** werden können! \n",
    "\\\n",
    "\\\n",
    "\n",
    "------------------------------------------------------------------------\n",
    "\n",
    "## 6 Auswertung\\\n",
    "\n",
    "Der folgende Abschnitt thematisiert Auswertungsmöglichkeiten mit Fokus auf Untergruppierungen und Filterfunktionen.\\\n",
    "\n",
    "## Variablenklassen bestimmen\\\n",
    "Damit Sie Ihre Daten adäquat auswerten können, müssen Sie sich über die Struktur und Klasse der Variablen bewusst sein.\\\n",
    "\n",
    "**Die wichtigsten Variablenklassen im Überblick:**\\\n",
    "\n",
    "- `integer`: Ganze Zahlen.\\\n",
    "  Beispiel: 1,2,5.\n",
    "\n",
    "- `numeric`: Zahl mit Kommastellen.\\\n",
    "  Beispiel: 1.99, 2.33, 5.00.\n",
    "\n",
    "- `character`: Zeichenketten bzw. Strings.\\\n",
    "  Beispiel: \"Hallo\", \"Apfel\", \"Hannah\". \n",
    "\n",
    "- `factor`: Kategoriale Variablen.\\\n",
    "  Beispiel: \"schlecht\", \"gut\", \"sehr gut\""
   ]
  },
  {
   "cell_type": "markdown",
   "id": "502cb1fb",
   "metadata": {
    "lines_to_next_cell": 0
   },
   "source": [
    "Die Variablenklasse ist ausschlaggebend dafür, wie Sie die Variablendaten auswerten können. Beispielsweise können Sie mit einer `numeric` -Variable rechnen, mit einer `character` -Variable jedoch nicht. \n",
    "\\\n",
    "\\\n",
    "**Variablenklassen bestimmen im Code:**\\\n",
    "Der Befehl `class()`gibt uns die jeweilige Klasse des Objektes wieder:\\"
   ]
  },
  {
   "cell_type": "code",
   "execution_count": null,
   "id": "90c1ec45",
   "metadata": {
    "lines_to_next_cell": 0
   },
   "outputs": [],
   "source": [
    "class(Tabellendaten$Angestelltenverhaeltnis) #sollte als character oder factor gelesen werden\n",
    "class(Tabellendaten$Geschlecht) #sollte als character oder factor gelesen werden\n",
    "class(Tabellendaten$Angestelltenzahl_2020) #sollte als numerisch oder integer gelesen werden"
   ]
  },
  {
   "cell_type": "markdown",
   "id": "b7729da6",
   "metadata": {},
   "source": [
    "Die Variablenklassen für \"Angestelltenverhältnis\" und \"Geschlecht\" sind passend. Die Variable \"\"Angestelltenzahl_2020\" wird jedoch auch als `character` interpretiert. Dies muss manuell geändert werden, da sonst bestimmte Auswertungen nicht möglich sind und Fehler entstehen können.\\\n",
    "\n",
    "> **Tipp:**\\\n",
    "Im *Environment* Fenster können Sie die Variablenklasse ebenfalls schnell einsehen:\\\n",
    "\n",
    "![Variablenklassen im Environment-Fenster](C:\\Users\\ant87282\\Pictures\\Camera Roll\\Screenshot_R_Environment_Variablenklassen.png){#id .class width=600 height=px}\\\n",
    "\\\n",
    "\\\n",
    "\n",
    "**Fallbeispiel:**\n",
    "Betrachten Sie die Funktion `max()`, welche den Maximalwert in der jeweiligen Spalte zurückgeben soll. Hinweis: `na.rm = TRUE` muss hinzugefügt werden, damit die nicht vorhandenen Werte nicht berücksichtigt werden, ansonsten kommt es zu einem Error.\\"
   ]
  },
  {
   "cell_type": "code",
   "execution_count": null,
   "id": "e5e6d046",
   "metadata": {},
   "outputs": [],
   "source": [
    "max(Tabellendaten$Angestelltenzahl_2020, na.rm = TRUE)"
   ]
  },
  {
   "cell_type": "markdown",
   "id": "5d891913",
   "metadata": {
    "lines_to_next_cell": 0
   },
   "source": [
    "Wenn Sie jedoch einen Blick in die Tabelle werfen, sehen Sie schnell, dass es mehrere Angestelltenzahlen über 100.000 gibt. Die ausgegebene Zahl kann also nicht stimmen!\\\n",
    "\n",
    "**Wie kann es zu solch einem Fehler kommen?**\\\n",
    "Da die Variable \"Angestelltenzahl_2020\" als `character` interpretiert wird, ändert sich auch die Bedeutung der Funktion `max()`. Die Funkion `max()` gibt nun nicht mehr den Maximalwert zurück, sondern den niedrigsten Platz in alphabetischer Sortierung.\\ \n",
    "Nur wenn wenn die Werte in der Tabelle auch als Zahlen (also numerisch/integer) von **R** gelesen werden, gibt die Funktion `max()` den Maximalwert der Spalte zurück.\\\n",
    "\\\n",
    "\\\n",
    "\n",
    "### Variablenklasse ändern\\\n",
    "\n",
    "Hierfür überspeichern Sie die Daten der jeweiligen Spalte mit den exakt selben Daten, nur das Sie durch den Befehl `as.integer` die Klasse der Variable ändern. Wenn Sie die Klasse in numerisch ändern wollen würden Sie `as.numeric` usw. verwenden.\\"
   ]
  },
  {
   "cell_type": "code",
   "execution_count": null,
   "id": "4abce2d4",
   "metadata": {
    "warning": false
   },
   "outputs": [],
   "source": [
    "Tabellendaten$Angestelltenzahl_2020 <- as.integer(Tabellendaten$Angestelltenzahl_2020)"
   ]
  },
  {
   "cell_type": "markdown",
   "id": "7ca3edb4",
   "metadata": {
    "lines_to_next_cell": 0
   },
   "source": [
    "Überprüfen Sie gegebenenfalls erneut die Klasse:"
   ]
  },
  {
   "cell_type": "code",
   "execution_count": null,
   "id": "588d0eb0",
   "metadata": {},
   "outputs": [],
   "source": [
    "class(Tabellendaten$Angestelltenzahl_2020)"
   ]
  },
  {
   "cell_type": "markdown",
   "id": "f0b5a8f7",
   "metadata": {
    "lines_to_next_cell": 0
   },
   "source": [
    "Wenn Sie nun noch einmal die Beispielfunktion `max()` heranziehen, dann bekommen Sie jetzt durch neuer Klassenzugehörigkeit der Variable den Maximalwert angezeigt:"
   ]
  },
  {
   "cell_type": "code",
   "execution_count": null,
   "id": "858ed7f9",
   "metadata": {
    "lines_to_next_cell": 0
   },
   "outputs": [],
   "source": [
    "max(Tabellendaten$Angestelltenzahl_2020, na.rm = TRUE)"
   ]
  },
  {
   "cell_type": "markdown",
   "id": "69dc5b8a",
   "metadata": {},
   "source": [
    "> **Merken:** Überprüfen Sie immer die Art der Variablenklasse, welche **R** Ihren Daten zuweist und ändern Sie dies gegebenenfalls, um Fehler zu vermeiden.\n",
    "\n",
    "\\\n",
    "\n",
    "### Variablen hinzufügen\\\n",
    "\n",
    "Eine gute **Kategorisierung** Ihrer Daten ist notwendig, um effizient zu filtern. Hierzu müssen Sie die Struktur der Daten nachvollziehen können.\\\n",
    "Um die einzelnen Ausprägung der Variable \"Angestelltenverhaeltnis\" zu sichten, bietet Ihnen **R** den Befehl `unique()`:"
   ]
  },
  {
   "cell_type": "code",
   "execution_count": null,
   "id": "b043304f",
   "metadata": {
    "lines_to_next_cell": 0
   },
   "outputs": [],
   "source": [
    "unique(Tabellendaten$Angestelltenverhaeltnis)"
   ]
  },
  {
   "cell_type": "markdown",
   "id": "b48d7ea6",
   "metadata": {
    "lines_to_next_cell": 0
   },
   "source": [
    "Wie Sie erkennen können, ist die Variable \"Angestelltenverhaeltnis\" recht unübersichtlich, da sie verschiedene Unterkategorien enthält. Bei Betrachtung der einzelnen Positionen ist jedoch nicht erkennbar, zu welcher Überkategorie die Position gehört.\\\n",
    "\n",
    "**Bei genauerer Betrachtung der Tabelle fällt auf, dass es drei Ebenen gibt:**\n",
    "\n",
    "1. Ebene: \"Wissenschaftliches und künstlerisches Personal\" und \"Verwaltungs-, technisches und sonstiges Personal\"\\\n",
    "\n",
    "2. Ebene: \"Hauptberuflich\" und \"Nebenberuflich\"\n",
    "\n",
    "3. Ebene: Die einzelnen Positionen der Berufsbezeichnungen z.B. \"Professoren\", \"Dozenten und Assistenten\", etc.\n",
    "\n",
    "Für eine übersichtlichere Struktur in der Tabelle, kann für die ersten zwei Ebenen jeweils eine neue Variable erstellt werden. Hierdurch werden zwei neue Spalten zur Tabelle hinzugefügt und Sie können dann bei Betrachtung einer einzelnen Zeile alle wichtigen Informationen herauslesen, was derzeit nicht möglich ist.\n",
    "\\\n",
    "\\\n",
    "**Neue Variablen erstellen**:\\\n",
    "Da die Struktur es nicht erlaubt, die neuen Variablen durch Referenz auf die bereits vorhandenen Variablen zu erzeugen, müssen die neuen Variablen manuell strukturiert werden.\\\n",
    "\n",
    "Erzeugen Sie hierfür zunächst neue Variablen und setzen Sie den Inhalt erst mal auf unbekannt (NA)."
   ]
  },
  {
   "cell_type": "code",
   "execution_count": null,
   "id": "6310cecf",
   "metadata": {},
   "outputs": [],
   "source": [
    "#1.Ebene: Neue Variable \"Personalkategorie\"\n",
    "Tabellendaten$Personalkategorie <- c(NA)\n",
    "\n",
    "#2.Ebene: Neue Variable \"Art der Anstellung\"\n",
    "Tabellendaten$Art_der_Anstellung <- c(NA)"
   ]
  },
  {
   "cell_type": "markdown",
   "id": "18379bbb",
   "metadata": {
    "lines_to_next_cell": 0
   },
   "source": [
    "Der Spalteninhalt muss nun manuell eingetragen werden.\\\n",
    "Achtung: Diese Weise ist leider recht fehleranfällig, ist jedoch durch den Aufbau der Datei, ohne komplexere Funktionen zu benutzen, nicht anders möglich.\\\n",
    "\n",
    "> **Merken!:** Wenn Sie Daten generieren, strukturieren Sie diese immer gut. Dies erleichtert Ihnen selbst, aber auch allen anderen, die Ihre Daten verwenden, dass Arbeiten!\\\n",
    "\n",
    "\\\n",
    "**Einpflegen des Variableninhalts**"
   ]
  },
  {
   "cell_type": "code",
   "execution_count": null,
   "id": "56109432",
   "metadata": {},
   "outputs": [],
   "source": [
    "#1.Ebene\n",
    "Tabellendaten$Personalkategorie[76:78] <- \"Insgesamt\"\n",
    "Tabellendaten$Personalkategorie[1:30] <- \"Wissenschaftliches und künstlerisches Personal\"\n",
    "Tabellendaten$Personalkategorie[31:75] <- \"Verwaltungs-, technisches und sonstiges Personal\""
   ]
  },
  {
   "cell_type": "code",
   "execution_count": null,
   "id": "4ac264d3",
   "metadata": {
    "lines_to_next_cell": 2
   },
   "outputs": [],
   "source": [
    "#2.Ebene\n",
    "Tabellendaten$Art_der_Anstellung[c(1:3, 31:33, 76:78)] <- \"Insgesamt\"\n",
    "Tabellendaten$Art_der_Anstellung[c(4:18,34:66)] <- \"Hauptberuflich\"\n",
    "Tabellendaten$Art_der_Anstellung[c(19:30,67:75)] <- \"Nebenberuflich\""
   ]
  },
  {
   "cell_type": "markdown",
   "id": "32e00448",
   "metadata": {
    "lines_to_next_cell": 0
   },
   "source": [
    "Ergebnis ansehen:"
   ]
  },
  {
   "cell_type": "code",
   "execution_count": null,
   "id": "a3d92b8d",
   "metadata": {
    "class.output": "scroll_limit",
    "lines_to_next_cell": 0
   },
   "outputs": [],
   "source": [
    "show(Tabellendaten)"
   ]
  },
  {
   "cell_type": "markdown",
   "id": "66cb58d3",
   "metadata": {
    "lines_to_next_cell": 0
   },
   "source": [
    "\\\n",
    "\n",
    "### Unterkategorisieren\\\n",
    "\n",
    "Eine Unterkategorisierung (auch Sub-Sampling gennant) bietet sich auch insbesondere für die Variable \"Geschlecht\" an."
   ]
  },
  {
   "cell_type": "code",
   "execution_count": null,
   "id": "7d1e23b9",
   "metadata": {
    "lines_to_next_cell": 0
   },
   "outputs": [],
   "source": [
    "unique(Tabellendaten$Geschlecht)"
   ]
  },
  {
   "cell_type": "markdown",
   "id": "3d6fa1d3",
   "metadata": {
    "lines_to_next_cell": 0
   },
   "source": [
    "Durch das Aufführen der Variablenausprägung `\"Insgesamt\"` wird die Tabelle recht unübersichtlich. Es empfiehlt sich das sub-samplen der Tabelle nach den verschiedenen Geschlechtsausprägungen:"
   ]
  },
  {
   "cell_type": "code",
   "execution_count": null,
   "id": "f6dfcf45",
   "metadata": {
    "lines_to_next_cell": 0
   },
   "outputs": [],
   "source": [
    "#Geschlecht\n",
    "Tabelle_maennlich <- subset(Tabellendaten, Geschlecht == \"maennlich\")\n",
    "Tabelle_weiblich <- subset(Tabellendaten, Geschlecht == \"weiblich\")\n",
    "Tabelle_Insgesamt <- subset(Tabellendaten, Geschlecht == \"Insgesamt\")\n",
    "\n",
    "#Ergbnis ansehen \n",
    "head(Tabelle_Insgesamt)"
   ]
  },
  {
   "cell_type": "markdown",
   "id": "89fd0616",
   "metadata": {},
   "source": [
    "\\\n",
    "Wenn Sie nun z.B. aus der Tabelle_Insgesamt die zweite Spalte entfernen möchten, da diese redundant ist, können Sie die Spalte aus dem Subsample entfernen:"
   ]
  },
  {
   "cell_type": "code",
   "execution_count": null,
   "id": "43ec435f",
   "metadata": {
    "lines_to_next_cell": 0
   },
   "outputs": [],
   "source": [
    "Tabelle_Insgesamt <- subset(Tabelle_Insgesamt, select= c(-Geschlecht))\n",
    "\n",
    "#Ergebnis ansehen\n",
    "head(Tabelle_Insgesamt)"
   ]
  },
  {
   "cell_type": "markdown",
   "id": "a69d3b94",
   "metadata": {
    "lines_to_next_cell": 0
   },
   "source": [
    "\\\n",
    "\n",
    "### Tabellendaten filtern\\\n",
    "\n",
    "Alternativ zum `subset`-Befehl kann mit dem Befehl `filter` gearbeitet werden.\\\n",
    "Sie können Ihre Tabelle mittels der `filter`-Funktion filtern und so nach belieben die Tabelle nur gezielte Inhalte anzeigen lassen.\\\n",
    "\\\n",
    "Hierzu können Sie verschiedene Operatoren und Funktionen nutzen:\\\n",
    "\\\n",
    "**Mathematische Operatoren:**\n",
    "\n",
    "- `==` (Ist gleich) \n",
    "- `!=` (Ist nicht gleich)\n",
    "- `<` (Kleiner als)\n",
    "- `<=` (Kleiner-Gleich)\n",
    "- `>` (Größer als)\n",
    "- `>=` (größer-Gleich)\n",
    "\n",
    "Beispiel:"
   ]
  },
  {
   "cell_type": "code",
   "execution_count": null,
   "id": "e4748577",
   "metadata": {
    "lines_to_next_cell": 0
   },
   "outputs": [],
   "source": [
    "filter(Tabelle_Insgesamt, Tabelle_Insgesamt$Angestelltenzahl_2020 <= 5000)"
   ]
  },
  {
   "cell_type": "markdown",
   "id": "15c23cd0",
   "metadata": {
    "lines_to_next_cell": 0
   },
   "source": [
    "\\\n",
    "**Logische Operatoren:**\n",
    "\n",
    "- `!` (logisches NICHT)\n",
    "- `&` (logisches UND)\n",
    "- `|` (logisches ODER)\n",
    "\n",
    "Beispiel:"
   ]
  },
  {
   "cell_type": "code",
   "execution_count": null,
   "id": "5b7a34aa",
   "metadata": {
    "lines_to_next_cell": 0
   },
   "outputs": [],
   "source": [
    "filter(Tabellendaten, Tabellendaten$Personalkategorie == \"Wissenschaftliches und künstlerisches Personal\" & Tabellendaten$Geschlecht == \"weiblich\" )"
   ]
  },
  {
   "cell_type": "markdown",
   "id": "4fd28975",
   "metadata": {
    "lines_to_next_cell": 0
   },
   "source": [
    "\\\n",
    "**Verwenden von Funktionen:**\n",
    "\n",
    "Beispiel:\n",
    "Ausgabe des kleinsten Wertes mittels er `min()` -Funktion"
   ]
  },
  {
   "cell_type": "code",
   "execution_count": null,
   "id": "e63f0e67",
   "metadata": {
    "lines_to_next_cell": 0
   },
   "outputs": [],
   "source": [
    "filter(Tabellendaten, Tabellendaten$Angestelltenzahl_2020 == min(Tabellendaten$Angestelltenzahl_2020, na.rm = TRUE))"
   ]
  },
  {
   "cell_type": "markdown",
   "id": "335d16fd",
   "metadata": {
    "lines_to_next_cell": 0
   },
   "source": [
    "\\\n",
    "\n",
    "### Sortieren von Tabellendaten\\\n",
    "\n",
    "Sie können Tabellen mittels des `order()`-Befehls nach belieben sortieren.\\\n",
    "\n",
    "Beispiel:"
   ]
  },
  {
   "cell_type": "code",
   "execution_count": null,
   "id": "6a94936f",
   "metadata": {
    "lines_to_next_cell": 0
   },
   "outputs": [],
   "source": [
    "Tabelle_Insgesamt_Sortiert <- Tabelle_Insgesamt[order(Tabelle_Insgesamt$Angestelltenzahl_2020, decreasing = TRUE),]\n",
    "\n",
    "#Ergebnis ansehen\n",
    "head(Tabelle_Insgesamt_Sortiert)"
   ]
  },
  {
   "cell_type": "markdown",
   "id": "d1a6e2c1",
   "metadata": {},
   "source": [
    "\n"
   ]
  }
 ],
 "metadata": {
  "jupytext": {
   "cell_metadata_filter": "class.output,tags,language,warning,eval,message,-all",
   "main_language": "R",
   "notebook_metadata_filter": "-all",
   "text_representation": {
    "extension": ".Rmd",
    "format_name": "rmarkdown"
   }
  },
  "language_info": {
   "codemirror_mode": {
    "name": "ipython",
    "version": 3
   },
   "file_extension": ".py",
   "mimetype": "text/x-python",
   "name": "python",
   "nbconvert_exporter": "python",
   "pygments_lexer": "ipython3",
   "version": "3.11.7"
  }
 },
 "nbformat": 4,
 "nbformat_minor": 5
}